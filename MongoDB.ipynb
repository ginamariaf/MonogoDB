{
 "cells": [
  {
   "cell_type": "code",
   "execution_count": 2,
   "metadata": {},
   "outputs": [],
   "source": [
    "from pymongo import MongoClient\n",
    "from pprint import pprint\n",
    "import requests "
   ]
  },
  {
   "cell_type": "code",
   "execution_count": 3,
   "metadata": {},
   "outputs": [],
   "source": [
    "# Client connects to \"localhost\" by default \n",
    "client = MongoClient()"
   ]
  },
  {
   "cell_type": "code",
   "execution_count": 4,
   "metadata": {},
   "outputs": [],
   "source": [
    "# Create local \"bipm\" database on the fly \n",
    "db = client['bipm']"
   ]
  },
  {
   "cell_type": "code",
   "execution_count": 5,
   "metadata": {},
   "outputs": [],
   "source": [
    "# When we rerun the whole notebook, we start from scratch \n",
    "# by dropping the colection \"courses\"\n",
    "db.courses.drop()"
   ]
  },
  {
   "cell_type": "code",
   "execution_count": 6,
   "metadata": {},
   "outputs": [],
   "source": [
    "# Create a Python Dictonary\n",
    "courses = [\n",
    "    {'title': 'Data Science',\n",
    "     'lecturer': {\n",
    "         'name': 'Markus Löcher',\n",
    "         'department': 'Math',\n",
    "         'status': 'Professor'\n",
    "     },\n",
    "     'semester': 1},\n",
    "    {'title': 'Data Warehousing',\n",
    "     'lecturer': {\n",
    "         'name': 'Roland M. Mueller',\n",
    "         'department': 'Information Systems',\n",
    "         'status': 'Professor'\n",
    "     },\n",
    "     'semester': 1},\n",
    "    {'title': 'Business Process Management',\n",
    "     'lecturer': {\n",
    "         'name': 'Frank Habermann',\n",
    "         'department': 'Information Systems',\n",
    "         'status': 'Professor'\n",
    "     },\n",
    "     'semester': 1},\n",
    "    {'title': 'Stratigic Issues of IT',\n",
    "     'lecturer': {\n",
    "         'name': 'Sven Pohland',\n",
    "         'department': 'Information Systems',\n",
    "         'status': 'Professor'\n",
    "     },\n",
    "     'semester': 1},\n",
    "    {'title': 'Text, Web and Social Media Analytics Lab',\n",
    "     'lecturer': {\n",
    "         'name': 'Markus Löcher',\n",
    "         'department': 'Math',\n",
    "         'status': 'Professor'\n",
    "     },\n",
    "     'semester': 2},\n",
    "    {'title': 'Enterprise Architectures for Big Data',\n",
    "     'lecturer': {\n",
    "         'name': 'Roland M. Mueller',\n",
    "         'department': 'Information Systems',\n",
    "         'status': 'Professor'\n",
    "     },\n",
    "     'semester': 2},\n",
    "    {'title': 'Business Process Integration Lab',\n",
    "     'lecturer': {\n",
    "         'name': 'Frank Habermann',\n",
    "         'department': 'Information Systems',\n",
    "         'status': 'Professor'\n",
    "     },\n",
    "     'semester': 2},\n",
    "    {'title': 'IT-Security and Privacy',\n",
    "     'lecturer': {\n",
    "         'name': 'Dennis Uckel',\n",
    "         'department': 'Information Systems',\n",
    "         'status': 'External'\n",
    "     },\n",
    "     'semester': 2},\n",
    "    {'title': 'Research Methods',\n",
    "     'lecturer': {\n",
    "         'name': 'Marcus Birkenkrahe',\n",
    "         'department': 'Information Systems',\n",
    "         'status': 'Professor'\n",
    "     },\n",
    "     'semester': 2},\n",
    "]"
   ]
  },
  {
   "cell_type": "code",
   "execution_count": 7,
   "metadata": {},
   "outputs": [
    {
     "name": "stdout",
     "output_type": "stream",
     "text": [
      "[{'lecturer': {'department': 'Math',\n",
      "               'name': 'Markus Löcher',\n",
      "               'status': 'Professor'},\n",
      "  'semester': 1,\n",
      "  'title': 'Data Science'},\n",
      " {'lecturer': {'department': 'Information Systems',\n",
      "               'name': 'Roland M. Mueller',\n",
      "               'status': 'Professor'},\n",
      "  'semester': 1,\n",
      "  'title': 'Data Warehousing'},\n",
      " {'lecturer': {'department': 'Information Systems',\n",
      "               'name': 'Frank Habermann',\n",
      "               'status': 'Professor'},\n",
      "  'semester': 1,\n",
      "  'title': 'Business Process Management'},\n",
      " {'lecturer': {'department': 'Information Systems',\n",
      "               'name': 'Sven Pohland',\n",
      "               'status': 'Professor'},\n",
      "  'semester': 1,\n",
      "  'title': 'Stratigic Issues of IT'},\n",
      " {'lecturer': {'department': 'Math',\n",
      "               'name': 'Markus Löcher',\n",
      "               'status': 'Professor'},\n",
      "  'semester': 2,\n",
      "  'title': 'Text, Web and Social Media Analytics Lab'},\n",
      " {'lecturer': {'department': 'Information Systems',\n",
      "               'name': 'Roland M. Mueller',\n",
      "               'status': 'Professor'},\n",
      "  'semester': 2,\n",
      "  'title': 'Enterprise Architectures for Big Data'},\n",
      " {'lecturer': {'department': 'Information Systems',\n",
      "               'name': 'Frank Habermann',\n",
      "               'status': 'Professor'},\n",
      "  'semester': 2,\n",
      "  'title': 'Business Process Integration Lab'},\n",
      " {'lecturer': {'department': 'Information Systems',\n",
      "               'name': 'Dennis Uckel',\n",
      "               'status': 'External'},\n",
      "  'semester': 2,\n",
      "  'title': 'IT-Security and Privacy'},\n",
      " {'lecturer': {'department': 'Information Systems',\n",
      "               'name': 'Marcus Birkenkrahe',\n",
      "               'status': 'Professor'},\n",
      "  'semester': 2,\n",
      "  'title': 'Research Methods'}]\n"
     ]
    }
   ],
   "source": [
    "pprint(courses)"
   ]
  },
  {
   "cell_type": "code",
   "execution_count": 8,
   "metadata": {},
   "outputs": [
    {
     "data": {
      "text/plain": [
       "InsertManyResult([ObjectId('665462b671cea5eb829b00fa'), ObjectId('665462b671cea5eb829b00fb'), ObjectId('665462b671cea5eb829b00fc'), ObjectId('665462b671cea5eb829b00fd'), ObjectId('665462b671cea5eb829b00fe'), ObjectId('665462b671cea5eb829b00ff'), ObjectId('665462b671cea5eb829b0100'), ObjectId('665462b671cea5eb829b0101'), ObjectId('665462b671cea5eb829b0102')], acknowledged=True)"
      ]
     },
     "execution_count": 8,
     "metadata": {},
     "output_type": "execute_result"
    }
   ],
   "source": [
    "db.courses.insert_many(courses)"
   ]
  },
  {
   "cell_type": "code",
   "execution_count": 9,
   "metadata": {},
   "outputs": [],
   "source": [
    "# TODO: Print all courses\n",
    "cursor = db.my_collection.find()\n",
    "\n",
    "for document in cursor:\n",
    "    pprint(document)"
   ]
  },
  {
   "cell_type": "code",
   "execution_count": 10,
   "metadata": {},
   "outputs": [
    {
     "data": {
      "text/plain": [
       "{'title': 'Master Thesis', 'semester': 3}"
      ]
     },
     "execution_count": 10,
     "metadata": {},
     "output_type": "execute_result"
    }
   ],
   "source": [
    "import json\n",
    "my_json = '{\"title\": \"Master Thesis\", \"semester\": 3}'\n",
    "another_course = json.loads(my_json)\n",
    "another_course"
   ]
  },
  {
   "cell_type": "code",
   "execution_count": 13,
   "metadata": {},
   "outputs": [
    {
     "ename": "NameError",
     "evalue": "name 'result' is not defined",
     "output_type": "error",
     "traceback": [
      "\u001b[0;31m---------------------------------------------------------------------------\u001b[0m",
      "\u001b[0;31mNameError\u001b[0m                                 Traceback (most recent call last)",
      "Cell \u001b[0;32mIn[13], line 2\u001b[0m\n\u001b[1;32m      1\u001b[0m cursor \u001b[38;5;241m=\u001b[39m db\u001b[38;5;241m.\u001b[39mrestaurants\u001b[38;5;241m.\u001b[39mfind_one({\u001b[38;5;124m\"\u001b[39m\u001b[38;5;124mname\u001b[39m\u001b[38;5;124m\"\u001b[39m: \u001b[38;5;124m\"\u001b[39m\u001b[38;5;124mManhattan\u001b[39m\u001b[38;5;124m\"\u001b[39m})\n\u001b[0;32m----> 2\u001b[0m \u001b[38;5;28mprint\u001b[39m(\u001b[43mresult\u001b[49m[\u001b[38;5;124m\"\u001b[39m\u001b[38;5;124m_id\u001b[39m\u001b[38;5;124m\"\u001b[39m])\n\u001b[1;32m      3\u001b[0m \u001b[38;5;28mprint\u001b[39m(result[\u001b[38;5;124m\"\u001b[39m\u001b[38;5;124mlecturer\u001b[39m\u001b[38;5;124m\"\u001b[39m][\u001b[38;5;124m\"\u001b[39m\u001b[38;5;124mname\u001b[39m\u001b[38;5;124m\"\u001b[39m])\n",
      "\u001b[0;31mNameError\u001b[0m: name 'result' is not defined"
     ]
    }
   ],
   "source": [
    "cursor = db.restaurants.find_one({\"name\": \"Manhattan\"})\n",
    "print(result[\"_id\"])\n",
    "print(result[\"lecturer\"][\"name\"])"
   ]
  },
  {
   "cell_type": "code",
   "execution_count": 14,
   "metadata": {},
   "outputs": [],
   "source": [
    "# Create local \"nobel\" database on the fly \n",
    "db = client[\"nobel\"]\n",
    "db.prizes.drop()\n",
    "db.laureates.drop()\n",
    "# API documented at https://nobelprize.readme.io/docs/prize \n",
    "for collection_name in [\"prizes\", \"laureates\"]:\n",
    "    singular = collection_name[:-1] # the API uses singular\n",
    "    response = requests.get( \"http://api.nobelprize.org/v1/{}.json\".format(singular)) \n",
    "    documents = response.json()[collection_name] \n",
    "    # Create collections on the fly \n",
    "    db[collection_name].insert_many(documents)\n"
   ]
  },
  {
   "cell_type": "code",
   "execution_count": 15,
   "metadata": {},
   "outputs": [
    {
     "name": "stdout",
     "output_type": "stream",
     "text": [
      "{'_id': ObjectId('6654630471cea5eb829b03a1'),\n",
      " 'born': '1845-03-27',\n",
      " 'bornCity': 'Lennep (now Remscheid)',\n",
      " 'bornCountry': 'Prussia (now Germany)',\n",
      " 'bornCountryCode': 'DE',\n",
      " 'died': '1923-02-10',\n",
      " 'diedCity': 'Munich',\n",
      " 'diedCountry': 'Germany',\n",
      " 'diedCountryCode': 'DE',\n",
      " 'firstname': 'Wilhelm Conrad',\n",
      " 'gender': 'male',\n",
      " 'id': '1',\n",
      " 'prizes': [{'affiliations': [{'city': 'Munich',\n",
      "                               'country': 'Germany',\n",
      "                               'name': 'Munich University'}],\n",
      "             'category': 'physics',\n",
      "             'motivation': '\"in recognition of the extraordinary services he '\n",
      "                           'has rendered by the discovery of the remarkable '\n",
      "                           'rays subsequently named after him\"',\n",
      "             'share': '1',\n",
      "             'year': '1901'}],\n",
      " 'surname': 'Röntgen'}\n"
     ]
    }
   ],
   "source": [
    "pprint(db.laureates.find_one())"
   ]
  },
  {
   "cell_type": "code",
   "execution_count": 16,
   "metadata": {},
   "outputs": [
    {
     "data": {
      "text/plain": [
       "['Bavaria (now Germany)',\n",
       " 'East Friesland (now Germany)',\n",
       " 'Germany',\n",
       " 'Germany (now France)',\n",
       " 'Germany (now Poland)',\n",
       " 'Germany (now Russia)',\n",
       " 'Hesse-Kassel (now Germany)',\n",
       " 'Mecklenburg (now Germany)',\n",
       " 'Prussia (now Germany)',\n",
       " 'Schleswig (now Germany)',\n",
       " 'West Germany (now Germany)',\n",
       " 'Württemberg (now Germany)']"
      ]
     },
     "execution_count": 16,
     "metadata": {},
     "output_type": "execute_result"
    }
   ],
   "source": [
    "db.laureates.distinct(\"bornCountry\", {\"bornCountry\": {\"$regex\": \"Germany\"}})"
   ]
  },
  {
   "cell_type": "code",
   "execution_count": 17,
   "metadata": {},
   "outputs": [],
   "source": [
    "cursor = db.restaurants.find().sort([(\"grades.grade\", 1)])"
   ]
  }
 ],
 "metadata": {
  "kernelspec": {
   "display_name": "Python 3",
   "language": "python",
   "name": "python3"
  },
  "language_info": {
   "codemirror_mode": {
    "name": "ipython",
    "version": 3
   },
   "file_extension": ".py",
   "mimetype": "text/x-python",
   "name": "python",
   "nbconvert_exporter": "python",
   "pygments_lexer": "ipython3",
   "version": "3.11.6"
  }
 },
 "nbformat": 4,
 "nbformat_minor": 2
}
